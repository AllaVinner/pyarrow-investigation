{
 "cells": [
  {
   "cell_type": "markdown",
   "metadata": {},
   "source": [
    "# Write dataset to existing data with pyarrow"
   ]
  },
  {
   "cell_type": "code",
   "execution_count": 1,
   "metadata": {},
   "outputs": [],
   "source": []
  },
  {
   "cell_type": "code",
   "execution_count": null,
   "metadata": {},
   "outputs": [],
   "source": []
  },
  {
   "cell_type": "code",
   "execution_count": 2,
   "metadata": {},
   "outputs": [
    {
     "name": "stdout",
     "output_type": "stream",
     "text": [
      "Filename: c:\\Users\\joelw\\OneDrive\\Documents\\Projects\\Programming\\pyarrow-investigation\\notebooks\\scripts\\memory_methods.py\n",
      "\n",
      "Line #    Mem usage    Increment  Occurrences   Line Contents\n",
      "=============================================================\n",
      "     5    100.0 MiB    100.0 MiB           1   @profile\n",
      "     6                                         def big_fun():\n",
      "     7    100.1 MiB      0.0 MiB           1       a = 1\n",
      "     8    103.9 MiB      3.8 MiB           1       b = np.arange(1_000_000)\n",
      "     9    107.8 MiB      3.9 MiB           1       c = np.random.randint(0,1000, 1_000_000)\n",
      "\n",
      "\n"
     ]
    }
   ],
   "source": []
  },
  {
   "cell_type": "code",
   "execution_count": null,
   "metadata": {},
   "outputs": [],
   "source": []
  }
 ],
 "metadata": {
  "interpreter": {
   "hash": "b157c68f3c05e0e81317543c8d7fd774a9ccf4e50bfad1f2f01f4b8528efeb14"
  },
  "kernelspec": {
   "display_name": "Python 3.10.4 ('pyarrow-investigation')",
   "language": "python",
   "name": "python3"
  },
  "language_info": {
   "codemirror_mode": {
    "name": "ipython",
    "version": 3
   },
   "file_extension": ".py",
   "mimetype": "text/x-python",
   "name": "python",
   "nbconvert_exporter": "python",
   "pygments_lexer": "ipython3",
   "version": "3.10.4"
  },
  "orig_nbformat": 4
 },
 "nbformat": 4,
 "nbformat_minor": 2
}
